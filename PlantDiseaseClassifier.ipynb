{
 "cells": [
  {
   "cell_type": "code",
   "execution_count": 51,
   "id": "c0d7004f-941a-4bf7-883e-0cb09dcc7b45",
   "metadata": {},
   "outputs": [],
   "source": [
    "import tensorflow as tf \n",
    "from tensorflow import keras\n",
    "import numpy as np"
   ]
  },
  {
   "cell_type": "code",
   "execution_count": 52,
   "id": "d5f535c8-3d4f-4ae4-a52a-f2760e120070",
   "metadata": {},
   "outputs": [
    {
     "data": {
      "text/plain": [
       "'2.10.1'"
      ]
     },
     "execution_count": 52,
     "metadata": {},
     "output_type": "execute_result"
    }
   ],
   "source": [
    "tf.__version__"
   ]
  },
  {
   "cell_type": "code",
   "execution_count": 53,
   "id": "d232007b-2e57-4fef-b2ee-2c5ea7133911",
   "metadata": {},
   "outputs": [
    {
     "data": {
      "text/plain": [
       "'2.10.0'"
      ]
     },
     "execution_count": 53,
     "metadata": {},
     "output_type": "execute_result"
    }
   ],
   "source": [
    "keras.__version__"
   ]
  },
  {
   "cell_type": "code",
   "execution_count": 54,
   "id": "e9b2dc95-68ac-48f6-8553-e575355e69db",
   "metadata": {},
   "outputs": [
    {
     "data": {
      "text/plain": [
       "[PhysicalDevice(name='/physical_device:GPU:0', device_type='GPU')]"
      ]
     },
     "execution_count": 54,
     "metadata": {},
     "output_type": "execute_result"
    }
   ],
   "source": [
    "tf.config.list_physical_devices('GPU')"
   ]
  },
  {
   "cell_type": "code",
   "execution_count": 55,
   "id": "df0ac97e-d940-4d7a-aafd-4fd7bb7e5b49",
   "metadata": {},
   "outputs": [
    {
     "name": "stdout",
     "output_type": "stream",
     "text": [
      "Found 70295 files belonging to 38 classes.\n"
     ]
    }
   ],
   "source": [
    "training_dataset = tf.keras.utils.image_dataset_from_directory(\n",
    "    'train',\n",
    "    labels=\"inferred\",\n",
    "    label_mode=\"categorical\",  # Change label_mode to \"categorical\" for multi-class classification\n",
    "    class_names=None,\n",
    "    color_mode=\"rgb\",\n",
    "    batch_size=32,\n",
    "    image_size=(128, 128),\n",
    "    shuffle=True,\n",
    "    seed=None,\n",
    "    validation_split=None,\n",
    "    subset=None,\n",
    "    interpolation=\"bilinear\",\n",
    "    follow_links=False,\n",
    "    crop_to_aspect_ratio=False,\n",
    ")"
   ]
  },
  {
   "cell_type": "code",
   "execution_count": 56,
   "id": "6dd486ed-f9ec-4304-a994-80919d118da3",
   "metadata": {},
   "outputs": [
    {
     "data": {
      "text/plain": [
       "<BatchDataset element_spec=(TensorSpec(shape=(None, 128, 128, 3), dtype=tf.float32, name=None), TensorSpec(shape=(None, 38), dtype=tf.float32, name=None))>"
      ]
     },
     "execution_count": 56,
     "metadata": {},
     "output_type": "execute_result"
    }
   ],
   "source": [
    "training_dataset"
   ]
  },
  {
   "cell_type": "code",
   "execution_count": 57,
   "id": "f4ee0743-5004-47e2-b092-26211186c4d1",
   "metadata": {},
   "outputs": [
    {
     "name": "stdout",
     "output_type": "stream",
     "text": [
      "Found 17572 files belonging to 38 classes.\n"
     ]
    }
   ],
   "source": [
    "validation_dataset = tf.keras.utils.image_dataset_from_directory(\n",
    "    'valid',\n",
    "    labels=\"inferred\",\n",
    "    label_mode=\"categorical\",\n",
    "    class_names=None,\n",
    "    color_mode=\"rgb\",\n",
    "    batch_size=32,\n",
    "    image_size=(128, 128),\n",
    "    shuffle=True,\n",
    "    seed=None,\n",
    "    validation_split=None,\n",
    "    subset=None,\n",
    "    interpolation=\"bilinear\",\n",
    "    follow_links=False,\n",
    "    crop_to_aspect_ratio=False,\n",
    ")"
   ]
  },
  {
   "cell_type": "code",
   "execution_count": 58,
   "id": "103456ae-fbe3-4c88-9f3b-2f71edcbb876",
   "metadata": {},
   "outputs": [
    {
     "name": "stdout",
     "output_type": "stream",
     "text": [
      "tf.Tensor(\n",
      "[[[[ 96.25  92.25 107.25]\n",
      "   [ 88.    84.    99.  ]\n",
      "   [ 95.75  91.75 106.75]\n",
      "   ...\n",
      "   [123.5  116.5  124.5 ]\n",
      "   [118.5  111.5  119.5 ]\n",
      "   [128.5  121.5  129.5 ]]\n",
      "\n",
      "  [[ 98.5   94.5  109.5 ]\n",
      "   [100.75  96.75 111.75]\n",
      "   [101.75  97.75 112.75]\n",
      "   ...\n",
      "   [125.   118.   126.  ]\n",
      "   [116.   109.   117.  ]\n",
      "   [127.5  120.5  128.5 ]]\n",
      "\n",
      "  [[102.5   98.5  113.5 ]\n",
      "   [101.5   97.5  112.5 ]\n",
      "   [101.75  97.75 112.75]\n",
      "   ...\n",
      "   [138.5  131.5  139.5 ]\n",
      "   [127.   120.   128.  ]\n",
      "   [124.5  117.5  125.5 ]]\n",
      "\n",
      "  ...\n",
      "\n",
      "  [[124.   129.   148.  ]\n",
      "   [124.75 129.75 148.75]\n",
      "   [132.25 137.25 156.25]\n",
      "   ...\n",
      "   [111.5  118.5  136.5 ]\n",
      "   [122.   129.   147.  ]\n",
      "   [126.75 133.75 151.75]]\n",
      "\n",
      "  [[127.75 132.75 151.75]\n",
      "   [122.5  127.5  146.5 ]\n",
      "   [126.25 131.25 150.25]\n",
      "   ...\n",
      "   [117.25 124.25 142.25]\n",
      "   [123.5  130.5  148.5 ]\n",
      "   [122.   129.   147.  ]]\n",
      "\n",
      "  [[114.75 119.75 138.75]\n",
      "   [122.5  127.5  146.5 ]\n",
      "   [119.5  124.5  143.5 ]\n",
      "   ...\n",
      "   [127.25 134.25 152.25]\n",
      "   [120.5  127.5  145.5 ]\n",
      "   [120.25 127.25 145.25]]]\n",
      "\n",
      "\n",
      " [[[157.   147.   155.  ]\n",
      "   [149.   139.   147.  ]\n",
      "   [148.   138.   146.  ]\n",
      "   ...\n",
      "   [142.5  132.5  141.5 ]\n",
      "   [140.75 130.75 139.75]\n",
      "   [148.75 138.75 147.75]]\n",
      "\n",
      "  [[156.   146.   154.  ]\n",
      "   [142.75 132.75 140.75]\n",
      "   [156.   146.   154.  ]\n",
      "   ...\n",
      "   [127.5  117.5  126.5 ]\n",
      "   [147.   137.   146.  ]\n",
      "   [145.   135.   144.  ]]\n",
      "\n",
      "  [[161.75 151.75 159.75]\n",
      "   [164.75 154.75 162.75]\n",
      "   [149.5  139.5  147.5 ]\n",
      "   ...\n",
      "   [136.25 126.25 135.25]\n",
      "   [147.25 137.25 146.25]\n",
      "   [148.5  138.5  147.5 ]]\n",
      "\n",
      "  ...\n",
      "\n",
      "  [[195.75 188.75 195.75]\n",
      "   [198.   191.   198.  ]\n",
      "   [200.5  193.5  200.5 ]\n",
      "   ...\n",
      "   [187.   177.   185.  ]\n",
      "   [185.5  175.5  183.5 ]\n",
      "   [184.5  174.5  182.5 ]]\n",
      "\n",
      "  [[202.25 195.25 202.25]\n",
      "   [199.5  192.5  199.5 ]\n",
      "   [198.5  191.5  198.5 ]\n",
      "   ...\n",
      "   [189.5  179.5  187.5 ]\n",
      "   [190.75 180.75 188.75]\n",
      "   [184.   174.   182.  ]]\n",
      "\n",
      "  [[201.   194.   201.  ]\n",
      "   [194.75 187.75 194.75]\n",
      "   [205.75 198.75 205.75]\n",
      "   ...\n",
      "   [197.25 187.25 195.25]\n",
      "   [202.25 192.25 200.25]\n",
      "   [189.75 179.75 187.75]]]\n",
      "\n",
      "\n",
      " [[[142.25 135.25 151.25]\n",
      "   [139.   133.   147.  ]\n",
      "   [114.5  108.5  122.5 ]\n",
      "   ...\n",
      "   [102.25  94.25 105.25]\n",
      "   [103.    95.   106.  ]\n",
      "   [ 95.    87.    98.  ]]\n",
      "\n",
      "  [[137.5  130.5  146.5 ]\n",
      "   [136.25 130.25 144.25]\n",
      "   [140.   134.   148.  ]\n",
      "   ...\n",
      "   [112.25 104.25 115.25]\n",
      "   [106.25  98.25 109.25]\n",
      "   [103.75  95.75 106.75]]\n",
      "\n",
      "  [[124.75 117.75 133.75]\n",
      "   [132.5  126.5  140.5 ]\n",
      "   [135.   129.   143.  ]\n",
      "   ...\n",
      "   [117.25 109.25 120.25]\n",
      "   [121.25 113.25 124.25]\n",
      "   [113.   105.   116.  ]]\n",
      "\n",
      "  ...\n",
      "\n",
      "  [[155.75 153.75 167.75]\n",
      "   [139.   137.   151.  ]\n",
      "   [129.25 127.25 141.25]\n",
      "   ...\n",
      "   [120.   113.   129.  ]\n",
      "   [138.25 131.25 147.25]\n",
      "   [115.75 108.75 124.75]]\n",
      "\n",
      "  [[116.75 114.75 128.75]\n",
      "   [139.25 137.25 151.25]\n",
      "   [137.75 135.75 149.75]\n",
      "   ...\n",
      "   [138.   131.   147.  ]\n",
      "   [157.25 150.25 166.25]\n",
      "   [ 95.75  88.75 104.75]]\n",
      "\n",
      "  [[161.75 159.75 173.75]\n",
      "   [115.5  113.5  127.5 ]\n",
      "   [123.75 121.75 135.75]\n",
      "   ...\n",
      "   [110.75 103.75 119.75]\n",
      "   [130.5  123.5  139.5 ]\n",
      "   [113.   106.   122.  ]]]\n",
      "\n",
      "\n",
      " ...\n",
      "\n",
      "\n",
      " [[[172.   167.   163.  ]\n",
      "   [168.5  163.5  159.5 ]\n",
      "   [175.25 170.25 166.25]\n",
      "   ...\n",
      "   [138.   131.   125.  ]\n",
      "   [145.25 138.25 132.25]\n",
      "   [149.   142.   136.  ]]\n",
      "\n",
      "  [[171.   166.   162.  ]\n",
      "   [170.75 165.75 161.75]\n",
      "   [176.   171.   167.  ]\n",
      "   ...\n",
      "   [137.5  130.5  124.5 ]\n",
      "   [149.5  142.5  136.5 ]\n",
      "   [145.   138.   132.  ]]\n",
      "\n",
      "  [[171.25 166.25 162.25]\n",
      "   [168.5  163.5  159.5 ]\n",
      "   [169.25 164.25 160.25]\n",
      "   ...\n",
      "   [148.   141.   135.  ]\n",
      "   [139.   132.   126.  ]\n",
      "   [133.25 126.25 120.25]]\n",
      "\n",
      "  ...\n",
      "\n",
      "  [[204.75 204.75 204.75]\n",
      "   [207.75 207.75 207.75]\n",
      "   [208.75 208.75 208.75]\n",
      "   ...\n",
      "   [150.   146.   143.  ]\n",
      "   [157.   153.   150.  ]\n",
      "   [144.75 140.75 137.75]]\n",
      "\n",
      "  [[206.75 206.75 206.75]\n",
      "   [206.75 206.75 206.75]\n",
      "   [205.75 205.75 205.75]\n",
      "   ...\n",
      "   [138.5  134.5  131.5 ]\n",
      "   [143.5  139.5  136.5 ]\n",
      "   [152.25 148.25 145.25]]\n",
      "\n",
      "  [[204.   204.   204.  ]\n",
      "   [202.75 202.75 202.75]\n",
      "   [205.75 205.75 205.75]\n",
      "   ...\n",
      "   [145.   141.   138.  ]\n",
      "   [145.25 141.25 138.25]\n",
      "   [143.5  139.5  136.5 ]]]\n",
      "\n",
      "\n",
      " [[[ 73.25  64.    76.25]\n",
      "   [142.   131.   145.  ]\n",
      "   [144.25 133.25 147.25]\n",
      "   ...\n",
      "   [125.75 111.75 124.75]\n",
      "   [117.   103.   116.  ]\n",
      "   [ 99.5   85.5   98.5 ]]\n",
      "\n",
      "  [[ 75.5   65.75  78.5 ]\n",
      "   [133.5  122.5  136.5 ]\n",
      "   [156.   145.   159.  ]\n",
      "   ...\n",
      "   [108.75  94.75 107.75]\n",
      "   [108.5   94.5  107.5 ]\n",
      "   [104.    90.   103.  ]]\n",
      "\n",
      "  [[ 71.5   62.    74.5 ]\n",
      "   [169.75 158.75 172.75]\n",
      "   [153.75 142.75 156.75]\n",
      "   ...\n",
      "   [135.25 121.25 134.25]\n",
      "   [110.25  96.25 109.25]\n",
      "   [137.75 123.75 136.75]]\n",
      "\n",
      "  ...\n",
      "\n",
      "  [[ 89.75  83.75  94.75]\n",
      "   [166.   158.   171.  ]\n",
      "   [172.5  164.5  177.5 ]\n",
      "   ...\n",
      "   [115.5  101.5  116.5 ]\n",
      "   [130.75 116.75 131.75]\n",
      "   [153.25 139.25 154.25]]\n",
      "\n",
      "  [[ 92.75  85.25  97.75]\n",
      "   [177.25 169.25 182.25]\n",
      "   [180.   172.   185.  ]\n",
      "   ...\n",
      "   [133.   119.   134.  ]\n",
      "   [119.5  105.5  120.5 ]\n",
      "   [134.25 120.25 135.25]]\n",
      "\n",
      "  [[ 85.    79.    90.  ]\n",
      "   [173.   165.   178.  ]\n",
      "   [167.25 159.25 172.25]\n",
      "   ...\n",
      "   [120.   106.   121.  ]\n",
      "   [129.75 115.75 130.75]\n",
      "   [132.   118.   133.  ]]]\n",
      "\n",
      "\n",
      " [[[118.   170.   148.  ]\n",
      "   [121.25 173.25 151.25]\n",
      "   [117.5  169.5  147.5 ]\n",
      "   ...\n",
      "   [118.75 168.75 139.75]\n",
      "   [126.   176.   147.  ]\n",
      "   [120.25 170.25 141.25]]\n",
      "\n",
      "  [[119.5  171.5  149.5 ]\n",
      "   [122.25 174.25 152.25]\n",
      "   [117.5  169.5  147.5 ]\n",
      "   ...\n",
      "   [116.25 166.25 139.25]\n",
      "   [127.   177.   150.  ]\n",
      "   [116.75 166.75 139.75]]\n",
      "\n",
      "  [[121.   173.   151.  ]\n",
      "   [123.5  175.5  153.5 ]\n",
      "   [118.   170.   148.  ]\n",
      "   ...\n",
      "   [113.5  163.5  137.  ]\n",
      "   [123.25 173.25 146.75]\n",
      "   [114.25 164.25 137.75]]\n",
      "\n",
      "  ...\n",
      "\n",
      "  [[ 81.75 133.75 111.75]\n",
      "   [ 78.25 130.25 108.25]\n",
      "   [ 85.   137.   114.  ]\n",
      "   ...\n",
      "   [127.   174.   154.  ]\n",
      "   [134.   182.   160.  ]\n",
      "   [ 92.   140.   118.  ]]\n",
      "\n",
      "  [[ 94.5  146.5  124.5 ]\n",
      "   [ 91.75 143.75 121.75]\n",
      "   [ 80.25 132.25 109.25]\n",
      "   ...\n",
      "   [129.5  176.5  156.5 ]\n",
      "   [121.25 169.25 147.25]\n",
      "   [ 55.75 103.75  81.75]]\n",
      "\n",
      "  [[ 87.75 139.75 117.75]\n",
      "   [ 89.5  141.5  119.5 ]\n",
      "   [ 87.   139.   116.  ]\n",
      "   ...\n",
      "   [127.   174.   154.  ]\n",
      "   [112.   160.   138.  ]\n",
      "   [ 20.25  68.25  46.25]]]], shape=(32, 128, 128, 3), dtype=float32)\n",
      "tf.Tensor(\n",
      "[[0. 0. 0. ... 0. 0. 0.]\n",
      " [0. 0. 0. ... 0. 0. 0.]\n",
      " [0. 0. 0. ... 0. 0. 1.]\n",
      " ...\n",
      " [0. 0. 0. ... 0. 0. 0.]\n",
      " [0. 0. 0. ... 0. 1. 0.]\n",
      " [0. 0. 0. ... 0. 0. 0.]], shape=(32, 38), dtype=float32)\n"
     ]
    }
   ],
   "source": [
    "for x,y in training_dataset:\n",
    "    print(x)\n",
    "    print(y)\n",
    "    break"
   ]
  },
  {
   "cell_type": "code",
   "execution_count": 59,
   "id": "98f11141-4ffb-4bf0-af01-3925f221827b",
   "metadata": {},
   "outputs": [],
   "source": [
    "from tensorflow.keras.layers import Dense,Conv2D,MaxPool2D,Flatten,Dropout\n",
    "from tensorflow.keras.models import Sequential"
   ]
  },
  {
   "cell_type": "code",
   "execution_count": 60,
   "id": "a04a56e3-cb5a-4257-adcf-07f37010978d",
   "metadata": {},
   "outputs": [],
   "source": [
    "model = Sequential()"
   ]
  },
  {
   "cell_type": "code",
   "execution_count": 61,
   "id": "8c209f64-6f22-4251-a714-6e699b76aa00",
   "metadata": {},
   "outputs": [],
   "source": [
    "### adding convolusion layer\n"
   ]
  },
  {
   "cell_type": "code",
   "execution_count": 62,
   "id": "dc3f57be-29dc-4d6f-8dd4-2f2c99960e96",
   "metadata": {},
   "outputs": [],
   "source": [
    "model.add(Conv2D(filters=128, kernel_size=3, padding='same', activation='relu', input_shape=[128, 128, 3]))\n",
    "model.add(Conv2D(filters=128, kernel_size=3, padding='same', activation='relu'))\n",
    "model.add(MaxPool2D(pool_size=2, strides=2))"
   ]
  },
  {
   "cell_type": "code",
   "execution_count": 63,
   "id": "ed00b8ac-9043-4d92-bf6f-67c85b1e00e3",
   "metadata": {},
   "outputs": [],
   "source": [
    "model.add(Conv2D(filters=64, kernel_size=3, padding='same', activation='relu'))\n",
    "model.add(Conv2D(filters=64, kernel_size=3, padding='same', activation='relu'))\n",
    "model.add(MaxPool2D(pool_size=2, strides=2))"
   ]
  },
  {
   "cell_type": "code",
   "execution_count": 64,
   "id": "841353af-28ff-4c24-9c88-b21e33720cdb",
   "metadata": {},
   "outputs": [],
   "source": [
    "model.add(Conv2D(filters=32, kernel_size=3, padding='same', activation='relu'))\n",
    "model.add(Conv2D(filters=32, kernel_size=3, padding='same', activation='relu'))\n",
    "model.add(MaxPool2D(pool_size=2, strides=2))"
   ]
  },
  {
   "cell_type": "code",
   "execution_count": 65,
   "id": "6b6f94d3-2807-4549-96c0-216f5e315a33",
   "metadata": {},
   "outputs": [],
   "source": [
    "# model.add(Conv2D(filters=128, kernel_size=3, padding='same', activation='relu'))\n",
    "# model.add(Conv2D(filters=128, kernel_size=3, padding='same', activation='relu'))\n",
    "# model.add(MaxPool2D(pool_size=2, strides=2))"
   ]
  },
  {
   "cell_type": "code",
   "execution_count": 66,
   "id": "a2606d1c",
   "metadata": {},
   "outputs": [],
   "source": [
    "# model.add(Conv2D(filters=512, kernel_size=3, padding='same', activation='relu'))\n",
    "# model.add(Conv2D(filters=512, kernel_size=3, padding='same', activation='relu'))\n",
    "# model.add(MaxPool2D(pool_size=2, strides=2))"
   ]
  },
  {
   "cell_type": "code",
   "execution_count": null,
   "id": "12709383",
   "metadata": {},
   "outputs": [],
   "source": []
  },
  {
   "cell_type": "code",
   "execution_count": 67,
   "id": "591cff12",
   "metadata": {},
   "outputs": [],
   "source": [
    "# model.add(Dropout(0.25))\n",
    "## model is not underfitting"
   ]
  },
  {
   "cell_type": "code",
   "execution_count": 68,
   "id": "9d5502a0-79ee-46ab-b65e-15b3e098452d",
   "metadata": {},
   "outputs": [],
   "source": [
    "model.add(Flatten())"
   ]
  },
  {
   "cell_type": "code",
   "execution_count": 69,
   "id": "2bd99c2d-4502-4f98-b051-730d8295d314",
   "metadata": {},
   "outputs": [],
   "source": [
    "model.add(Dense(units=1500,activation='relu'))"
   ]
  },
  {
   "cell_type": "code",
   "execution_count": 70,
   "id": "ab080480",
   "metadata": {},
   "outputs": [],
   "source": [
    "# model.add(Dropout(0.4))\n",
    "### model is not under fitting"
   ]
  },
  {
   "cell_type": "code",
   "execution_count": 71,
   "id": "5fcc4e24-a192-4403-9fff-c996107b537b",
   "metadata": {},
   "outputs": [],
   "source": [
    "model.add(Dense(units=38,activation='softmax'))"
   ]
  },
  {
   "cell_type": "code",
   "execution_count": 72,
   "id": "57b10df4-ea35-4a39-b506-be342d09ce4c",
   "metadata": {},
   "outputs": [],
   "source": [
    "## model compile"
   ]
  },
  {
   "cell_type": "code",
   "execution_count": 73,
   "id": "b720e85b-9912-4a20-a347-5f4b6cb5edc9",
   "metadata": {},
   "outputs": [],
   "source": [
    "model.compile(optimizer='adam', loss='categorical_crossentropy', metrics=['accuracy'])"
   ]
  },
  {
   "cell_type": "code",
   "execution_count": null,
   "id": "bc028fae",
   "metadata": {},
   "outputs": [],
   "source": []
  },
  {
   "cell_type": "code",
   "execution_count": 74,
   "id": "c3534e50-f61a-45ff-ab8a-23dd1ae7bf2d",
   "metadata": {},
   "outputs": [
    {
     "name": "stdout",
     "output_type": "stream",
     "text": [
      "Model: \"sequential_2\"\n",
      "_________________________________________________________________\n",
      " Layer (type)                Output Shape              Param #   \n",
      "=================================================================\n",
      " conv2d_16 (Conv2D)          (None, 128, 128, 128)     3584      \n",
      "                                                                 \n",
      " conv2d_17 (Conv2D)          (None, 128, 128, 128)     147584    \n",
      "                                                                 \n",
      " max_pooling2d_8 (MaxPooling  (None, 64, 64, 128)      0         \n",
      " 2D)                                                             \n",
      "                                                                 \n",
      " conv2d_18 (Conv2D)          (None, 64, 64, 64)        73792     \n",
      "                                                                 \n",
      " conv2d_19 (Conv2D)          (None, 64, 64, 64)        36928     \n",
      "                                                                 \n",
      " max_pooling2d_9 (MaxPooling  (None, 32, 32, 64)       0         \n",
      " 2D)                                                             \n",
      "                                                                 \n",
      " conv2d_20 (Conv2D)          (None, 32, 32, 32)        18464     \n",
      "                                                                 \n",
      " conv2d_21 (Conv2D)          (None, 32, 32, 32)        9248      \n",
      "                                                                 \n",
      " max_pooling2d_10 (MaxPoolin  (None, 16, 16, 32)       0         \n",
      " g2D)                                                            \n",
      "                                                                 \n",
      " flatten_2 (Flatten)         (None, 8192)              0         \n",
      "                                                                 \n",
      " dense_4 (Dense)             (None, 1500)              12289500  \n",
      "                                                                 \n",
      " dense_5 (Dense)             (None, 38)                57038     \n",
      "                                                                 \n",
      "=================================================================\n",
      "Total params: 12,636,138\n",
      "Trainable params: 12,636,138\n",
      "Non-trainable params: 0\n",
      "_________________________________________________________________\n"
     ]
    }
   ],
   "source": [
    "model.summary()"
   ]
  },
  {
   "cell_type": "code",
   "execution_count": null,
   "id": "7c58c7e4-c521-4e83-84a5-9f83d70f9567",
   "metadata": {},
   "outputs": [],
   "source": []
  },
  {
   "cell_type": "code",
   "execution_count": 75,
   "id": "de79624d-2d32-48ba-825e-f423f340f88d",
   "metadata": {},
   "outputs": [
    {
     "name": "stdout",
     "output_type": "stream",
     "text": [
      "Epoch 1/8\n"
     ]
    },
    {
     "name": "stdout",
     "output_type": "stream",
     "text": [
      "2197/2197 [==============================] - 335s 152ms/step - loss: 1.1599 - accuracy: 0.6750 - val_loss: 0.4564 - val_accuracy: 0.8515\n",
      "Epoch 2/8\n",
      "2197/2197 [==============================] - 328s 149ms/step - loss: 0.3593 - accuracy: 0.8848 - val_loss: 0.5011 - val_accuracy: 0.8471\n",
      "Epoch 3/8\n",
      "2197/2197 [==============================] - 290s 132ms/step - loss: 0.2206 - accuracy: 0.9302 - val_loss: 0.4283 - val_accuracy: 0.8692\n",
      "Epoch 4/8\n",
      "2197/2197 [==============================] - 284s 129ms/step - loss: 0.1616 - accuracy: 0.9474 - val_loss: 0.5605 - val_accuracy: 0.8524\n",
      "Epoch 5/8\n",
      "2197/2197 [==============================] - 287s 131ms/step - loss: 0.1304 - accuracy: 0.9585 - val_loss: 0.5015 - val_accuracy: 0.8806\n",
      "Epoch 6/8\n",
      "2197/2197 [==============================] - 286s 130ms/step - loss: 0.1114 - accuracy: 0.9652 - val_loss: 0.4882 - val_accuracy: 0.8791\n",
      "Epoch 7/8\n",
      "2197/2197 [==============================] - 286s 130ms/step - loss: 0.1090 - accuracy: 0.9661 - val_loss: 0.5222 - val_accuracy: 0.8858\n",
      "Epoch 8/8\n",
      "2197/2197 [==============================] - 310s 141ms/step - loss: 0.0871 - accuracy: 0.9730 - val_loss: 0.5257 - val_accuracy: 0.8905\n"
     ]
    }
   ],
   "source": [
    "traingin_history = model.fit(x = training_dataset ,validation_data = validation_dataset ,epochs=8) "
   ]
  },
  {
   "cell_type": "code",
   "execution_count": 76,
   "id": "3647a758",
   "metadata": {},
   "outputs": [
    {
     "name": "stderr",
     "output_type": "stream",
     "text": [
      "WARNING:absl:Found untraced functions such as _jit_compiled_convolution_op, _jit_compiled_convolution_op, _jit_compiled_convolution_op, _jit_compiled_convolution_op, _jit_compiled_convolution_op while saving (showing 5 of 6). These functions will not be directly callable after loading.\n"
     ]
    },
    {
     "name": "stdout",
     "output_type": "stream",
     "text": [
      "INFO:tensorflow:Assets written to: my_model.keras\\assets\n"
     ]
    },
    {
     "name": "stderr",
     "output_type": "stream",
     "text": [
      "INFO:tensorflow:Assets written to: my_model.keras\\assets\n"
     ]
    }
   ],
   "source": [
    "tf.saved_model.save(model, 'my_model.keras')\n",
    "\n",
    "# Assuming you have a model named 'model'\n",
    "model.save('myy_model.h5')  # Save the model\n",
    "\n",
    "# You can later load the model using:\n",
    "# loaded_model = load_model('my_model.h5')\n"
   ]
  },
  {
   "cell_type": "code",
   "execution_count": 77,
   "id": "5a892adb-e1cd-4939-b9c2-2a22a55179e0",
   "metadata": {},
   "outputs": [],
   "source": [
    "training_history = traingin_history"
   ]
  },
  {
   "cell_type": "code",
   "execution_count": 78,
   "id": "f31e2330-9905-4bdb-9c63-30eaf2af234d",
   "metadata": {},
   "outputs": [
    {
     "name": "stdout",
     "output_type": "stream",
     "text": [
      "2197/2197 [==============================] - 104s 47ms/step - loss: 0.0606 - accuracy: 0.9819\n"
     ]
    }
   ],
   "source": [
    "train_acc , train_loss = model.evaluate(training_dataset)"
   ]
  },
  {
   "cell_type": "code",
   "execution_count": 79,
   "id": "d13982b0",
   "metadata": {},
   "outputs": [
    {
     "name": "stdout",
     "output_type": "stream",
     "text": [
      "0.06060989201068878 0.9818621277809143\n"
     ]
    }
   ],
   "source": [
    "print(train_acc , train_loss)"
   ]
  },
  {
   "cell_type": "code",
   "execution_count": 80,
   "id": "5388c072",
   "metadata": {},
   "outputs": [
    {
     "name": "stdout",
     "output_type": "stream",
     "text": [
      "550/550 [==============================] - 26s 47ms/step - loss: 0.5257 - accuracy: 0.8905\n"
     ]
    }
   ],
   "source": [
    "valid_acc,valid_loss = model.evaluate(validation_dataset)"
   ]
  },
  {
   "cell_type": "code",
   "execution_count": 81,
   "id": "2e0cbe68",
   "metadata": {},
   "outputs": [
    {
     "name": "stdout",
     "output_type": "stream",
     "text": [
      "0.5257335901260376 0.8904507160186768\n"
     ]
    }
   ],
   "source": [
    "print(valid_acc,valid_loss)"
   ]
  },
  {
   "cell_type": "code",
   "execution_count": 82,
   "id": "31dbdbcb",
   "metadata": {},
   "outputs": [],
   "source": [
    "## saving the model"
   ]
  },
  {
   "cell_type": "code",
   "execution_count": 83,
   "id": "070d5256",
   "metadata": {},
   "outputs": [],
   "source": [
    "model.save('PlantDiseaseModel.h5')"
   ]
  },
  {
   "cell_type": "code",
   "execution_count": 84,
   "id": "33ac59c0",
   "metadata": {},
   "outputs": [],
   "source": [
    "model.save('PlantDiseaseModel.keras')"
   ]
  },
  {
   "cell_type": "code",
   "execution_count": null,
   "id": "5b3a35a1",
   "metadata": {},
   "outputs": [],
   "source": []
  },
  {
   "cell_type": "markdown",
   "id": "046b9536",
   "metadata": {},
   "source": [
    "visualisation of accuracy"
   ]
  },
  {
   "cell_type": "code",
   "execution_count": 85,
   "id": "c392e36a",
   "metadata": {},
   "outputs": [
    {
     "data": {
      "text/plain": [
       "{'loss': [1.1598652601242065,\n",
       "  0.3592981994152069,\n",
       "  0.22061248123645782,\n",
       "  0.16156913340091705,\n",
       "  0.1303805261850357,\n",
       "  0.11144653707742691,\n",
       "  0.10904210805892944,\n",
       "  0.08709795027971268],\n",
       " 'accuracy': [0.675012469291687,\n",
       "  0.8848282098770142,\n",
       "  0.9302226305007935,\n",
       "  0.9473931193351746,\n",
       "  0.9584892392158508,\n",
       "  0.9652464389801025,\n",
       "  0.9661284685134888,\n",
       "  0.9729710221290588],\n",
       " 'val_loss': [0.45639604330062866,\n",
       "  0.5011323690414429,\n",
       "  0.42825138568878174,\n",
       "  0.5605114102363586,\n",
       "  0.5015491247177124,\n",
       "  0.48823902010917664,\n",
       "  0.5222081542015076,\n",
       "  0.5257331728935242],\n",
       " 'val_accuracy': [0.8515251278877258,\n",
       "  0.8470862507820129,\n",
       "  0.8691668510437012,\n",
       "  0.852378785610199,\n",
       "  0.8806055188179016,\n",
       "  0.8791258931159973,\n",
       "  0.8857842087745667,\n",
       "  0.8904507160186768]}"
      ]
     },
     "execution_count": 85,
     "metadata": {},
     "output_type": "execute_result"
    }
   ],
   "source": [
    "training_history.history"
   ]
  },
  {
   "cell_type": "code",
   "execution_count": 89,
   "id": "24b6b7df",
   "metadata": {},
   "outputs": [],
   "source": [
    "import matplotlib.pyplot as plt"
   ]
  },
  {
   "cell_type": "code",
   "execution_count": 90,
   "id": "4a521cbd",
   "metadata": {},
   "outputs": [
    {
     "data": {
      "image/png": "[encoded data removed]",
      "text/plain": [
       "<Figure size 640x480 with 1 Axes>"
      ]
     },
     "metadata": {},
     "output_type": "display_data"
    }
   ],
   "source": [
    "epochs = [i for i in range(1,9)]\n",
    "plt.plot(epochs,training_history.history['accuracy'],color='blue',label = 'training')\n",
    "plt.plot(epochs,training_history.history['val_accuracy'], color='red', label='validation')  # Added label for validation accuracy)\n",
    "plt.xlabel('epochs')\n",
    "plt.ylabel('accuracy')\n",
    "plt.legend() \n",
    "plt.show()"
   ]
  },
  {
   "cell_type": "code",
   "execution_count": 94,
   "id": "258260e6",
   "metadata": {},
   "outputs": [
    {
     "data": {
      "image/png": "[encoded data removed]",
      "text/plain": [
       "<Figure size 640x480 with 1 Axes>"
      ]
     },
     "metadata": {},
     "output_type": "display_data"
    }
   ],
   "source": [
    "epochs = [i for i in range(1,9)]\n",
    "plt.plot(epochs,training_history.history['loss'],color='blue',label = 'training')\n",
    "plt.plot(epochs,training_history.history['val_loss'], color='red', label='validation')  # Added label for validation accuracy)\n",
    "plt.xlabel('epochs')\n",
    "plt.ylabel('accuracy')\n",
    "plt.legend() \n",
    "plt.show()\n"
   ]
  },
  {
   "cell_type": "code",
   "execution_count": 92,
   "id": "29019491",
   "metadata": {},
   "outputs": [
    {
     "name": "stdout",
     "output_type": "stream",
     "text": [
      "Found 17572 files belonging to 38 classes.\n"
     ]
    }
   ],
   "source": [
    "test_dataset =  tf.keras.utils.image_dataset_from_directory(\n",
    "    'valid',\n",
    "    labels=\"inferred\",\n",
    "    label_mode=\"categorical\",  # Change label_mode to \"categorical\" for multi-class classification\n",
    "    class_names=None,\n",
    "    color_mode=\"rgb\",\n",
    "    batch_size=32,\n",
    "    image_size=(128, 128),\n",
    "    shuffle=False,\n",
    "    seed=None,\n",
    "    validation_split=None,\n",
    "    subset=None,\n",
    "    interpolation=\"bilinear\",\n",
    "    follow_links=False,\n",
    "    crop_to_aspect_ratio=False,\n",
    ")"
   ]
  },
  {
   "cell_type": "code",
   "execution_count": 93,
   "id": "be70d156",
   "metadata": {},
   "outputs": [
    {
     "name": "stdout",
     "output_type": "stream",
     "text": [
      "550/550 [==============================] - 26s 46ms/step\n"
     ]
    }
   ],
   "source": [
    "y_pred = model.predict(test_dataset)"
   ]
  },
  {
   "cell_type": "code",
   "execution_count": 95,
   "id": "387bdbc6",
   "metadata": {},
   "outputs": [],
   "source": [
    "model.save('mmy_89model.keras')"
   ]
  },
  {
   "cell_type": "code",
   "execution_count": null,
   "id": "e4c84d1d",
   "metadata": {},
   "outputs": [],
   "source": []
  }
 ],
 "metadata": {
  "kernelspec": {
   "display_name": "tf",
   "language": "python",
   "name": "python3"
  },
  "language_info": {
   "codemirror_mode": {
    "name": "ipython",
    "version": 3
   },
   "file_extension": ".py",
   "mimetype": "text/x-python",
   "name": "python",
   "nbconvert_exporter": "python",
   "pygments_lexer": "ipython3",
   "version": "3.9.19"
  }
 },
 "nbformat": 4,
 "nbformat_minor": 5
}
